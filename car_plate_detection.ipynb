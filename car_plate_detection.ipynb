{
 "cells": [
  {
   "attachments": {},
   "cell_type": "markdown",
   "id": "9f2c663c",
   "metadata": {
    "pycharm": {
     "name": "#%% md\n"
    }
   },
   "source": [
    "# Car Plate Detection Tutorial"
   ]
  },
  {
   "attachments": {},
   "cell_type": "markdown",
   "id": "4df1d160",
   "metadata": {
    "pycharm": {
     "name": "#%% md\n"
    }
   },
   "source": [
    "<table align=\"left\">\n",
    "  <td>\n",
    "    <a target=\"_blank\" href=\"https://colab.research.google.com/georgia-tech-db/eva-application-template/blob/main/car_plate_detection.ipynb\"><img src=\"https://www.tensorflow.org/images/colab_logo_32px.png\" /> Run on Google Colab</a>\n",
    "  </td>\n",
    "  <td>\n",
    "    <a target=\"_blank\" href=\"https://colab.research.google.com/georgia-tech-db/eva-application-template/blob/main/car_plate_detection.ipynb\"><img src=\"https://www.tensorflow.org/images/GitHub-Mark-32px.png\" /> View source on GitHub</a>\n",
    "  </td>\n",
    "  <td>\n",
    "    <a target=\"_blank\" href=\"https://colab.research.google.com/georgia-tech-db/eva-application-template/blob/main/car_plate_detection.ipynb\"><img src=\"https://www.tensorflow.org/images/download_logo_32px.png\" /> Download notebook</a>\n",
    "  </td>\n",
    "</table>"
   ]
  },
  {
   "cell_type": "code",
   "execution_count": 168,
   "id": "1787d58b",
   "metadata": {},
   "outputs": [
    {
     "name": "stdout",
     "output_type": "stream",
     "text": [
      "Requirement already satisfied: evadb==0.1.3 in ./eva-application/lib/python3.8/site-packages (from -r requirements.txt (line 3)) (0.1.3)\n",
      "Requirement already satisfied: nbformat in ./eva-application/lib/python3.8/site-packages (from -r requirements.txt (line 6)) (5.7.1)\n",
      "Requirement already satisfied: ipykernel in ./eva-application/lib/python3.8/site-packages (from -r requirements.txt (line 7)) (6.19.4)\n",
      "Requirement already satisfied: ipywidgets in ./eva-application/lib/python3.8/site-packages (from -r requirements.txt (line 8)) (8.0.4)\n",
      "Requirement already satisfied: ray>=1.13.0 in ./eva-application/lib/python3.8/site-packages (from evadb==0.1.3->-r requirements.txt (line 3)) (2.2.0)\n",
      "Requirement already satisfied: yolov5 in ./eva-application/lib/python3.8/site-packages (from evadb==0.1.3->-r requirements.txt (line 3)) (7.0.6)\n",
      "Requirement already satisfied: importlib-metadata<5.0 in ./eva-application/lib/python3.8/site-packages (from evadb==0.1.3->-r requirements.txt (line 3)) (4.13.0)\n",
      "Requirement already satisfied: lark>=1.0.0 in ./eva-application/lib/python3.8/site-packages (from evadb==0.1.3->-r requirements.txt (line 3)) (1.1.5)\n",
      "Requirement already satisfied: facenet-pytorch>=2.5.2 in ./eva-application/lib/python3.8/site-packages (from evadb==0.1.3->-r requirements.txt (line 3)) (2.5.2)\n",
      "Requirement already satisfied: Pillow>=8.4.0 in ./eva-application/lib/python3.8/site-packages (from evadb==0.1.3->-r requirements.txt (line 3)) (9.4.0)\n",
      "Requirement already satisfied: numpy<=1.23.5,>=1.19.5 in ./eva-application/lib/python3.8/site-packages (from evadb==0.1.3->-r requirements.txt (line 3)) (1.23.5)\n",
      "Requirement already satisfied: sqlalchemy>=1.4.0 in ./eva-application/lib/python3.8/site-packages (from evadb==0.1.3->-r requirements.txt (line 3)) (1.4.46)\n",
      "Requirement already satisfied: faiss-cpu in ./eva-application/lib/python3.8/site-packages (from evadb==0.1.3->-r requirements.txt (line 3)) (1.7.3)\n",
      "Requirement already satisfied: aenum>=2.2.0 in ./eva-application/lib/python3.8/site-packages (from evadb==0.1.3->-r requirements.txt (line 3)) (3.1.11)\n",
      "Requirement already satisfied: torch>=1.10.0 in ./eva-application/lib/python3.8/site-packages (from evadb==0.1.3->-r requirements.txt (line 3)) (1.13.1)\n",
      "Requirement already satisfied: pandas>=1.1.5 in ./eva-application/lib/python3.8/site-packages (from evadb==0.1.3->-r requirements.txt (line 3)) (1.5.2)\n",
      "Requirement already satisfied: sqlalchemy-utils>=0.36.6 in ./eva-application/lib/python3.8/site-packages (from evadb==0.1.3->-r requirements.txt (line 3)) (0.39.0)\n",
      "Requirement already satisfied: ipython in ./eva-application/lib/python3.8/site-packages (from evadb==0.1.3->-r requirements.txt (line 3)) (8.8.0)\n",
      "Requirement already satisfied: pyyaml>=5.1 in ./eva-application/lib/python3.8/site-packages (from evadb==0.1.3->-r requirements.txt (line 3)) (6.0)\n",
      "Requirement already satisfied: torchvision>=0.11.1 in ./eva-application/lib/python3.8/site-packages (from evadb==0.1.3->-r requirements.txt (line 3)) (0.14.1)\n",
      "Requirement already satisfied: easyocr>=1.5.0 in ./eva-application/lib/python3.8/site-packages (from evadb==0.1.3->-r requirements.txt (line 3)) (1.6.2)\n",
      "Requirement already satisfied: opencv-python<4.6.0.66,>=4.5.4.60 in ./eva-application/lib/python3.8/site-packages (from evadb==0.1.3->-r requirements.txt (line 3)) (4.5.5.64)\n",
      "Requirement already satisfied: traitlets>=5.1 in ./eva-application/lib/python3.8/site-packages (from nbformat->-r requirements.txt (line 6)) (5.8.0)\n",
      "Requirement already satisfied: fastjsonschema in ./eva-application/lib/python3.8/site-packages (from nbformat->-r requirements.txt (line 6)) (2.16.2)\n",
      "Requirement already satisfied: jsonschema>=2.6 in ./eva-application/lib/python3.8/site-packages (from nbformat->-r requirements.txt (line 6)) (4.17.3)\n",
      "Requirement already satisfied: jupyter-core in ./eva-application/lib/python3.8/site-packages (from nbformat->-r requirements.txt (line 6)) (5.1.2)\n",
      "Requirement already satisfied: jupyter-client>=6.1.12 in ./eva-application/lib/python3.8/site-packages (from ipykernel->-r requirements.txt (line 7)) (7.4.8)\n",
      "Requirement already satisfied: debugpy>=1.0 in ./eva-application/lib/python3.8/site-packages (from ipykernel->-r requirements.txt (line 7)) (1.6.4)\n",
      "Requirement already satisfied: psutil in ./eva-application/lib/python3.8/site-packages (from ipykernel->-r requirements.txt (line 7)) (5.9.4)\n",
      "Requirement already satisfied: matplotlib-inline>=0.1 in ./eva-application/lib/python3.8/site-packages (from ipykernel->-r requirements.txt (line 7)) (0.1.6)\n",
      "Requirement already satisfied: nest-asyncio in ./eva-application/lib/python3.8/site-packages (from ipykernel->-r requirements.txt (line 7)) (1.5.6)\n",
      "Requirement already satisfied: pyzmq>=17 in ./eva-application/lib/python3.8/site-packages (from ipykernel->-r requirements.txt (line 7)) (24.0.1)\n",
      "Requirement already satisfied: packaging in ./eva-application/lib/python3.8/site-packages (from ipykernel->-r requirements.txt (line 7)) (22.0)\n",
      "Requirement already satisfied: comm>=0.1.1 in ./eva-application/lib/python3.8/site-packages (from ipykernel->-r requirements.txt (line 7)) (0.1.2)\n",
      "Requirement already satisfied: tornado>=6.1 in ./eva-application/lib/python3.8/site-packages (from ipykernel->-r requirements.txt (line 7)) (6.2)\n",
      "Requirement already satisfied: jupyterlab-widgets~=3.0 in ./eva-application/lib/python3.8/site-packages (from ipywidgets->-r requirements.txt (line 8)) (3.0.5)\n",
      "Requirement already satisfied: widgetsnbextension~=4.0 in ./eva-application/lib/python3.8/site-packages (from ipywidgets->-r requirements.txt (line 8)) (4.0.5)\n",
      "Requirement already satisfied: aiosignal in ./eva-application/lib/python3.8/site-packages (from ray>=1.13.0->evadb==0.1.3->-r requirements.txt (line 3)) (1.3.1)\n",
      "Requirement already satisfied: requests in ./eva-application/lib/python3.8/site-packages (from ray>=1.13.0->evadb==0.1.3->-r requirements.txt (line 3)) (2.28.1)\n",
      "Requirement already satisfied: click>=7.0 in ./eva-application/lib/python3.8/site-packages (from ray>=1.13.0->evadb==0.1.3->-r requirements.txt (line 3)) (8.1.3)\n",
      "Requirement already satisfied: attrs in ./eva-application/lib/python3.8/site-packages (from ray>=1.13.0->evadb==0.1.3->-r requirements.txt (line 3)) (22.2.0)\n",
      "Requirement already satisfied: protobuf!=3.19.5,>=3.15.3 in ./eva-application/lib/python3.8/site-packages (from ray>=1.13.0->evadb==0.1.3->-r requirements.txt (line 3)) (4.21.12)\n",
      "Requirement already satisfied: filelock in ./eva-application/lib/python3.8/site-packages (from ray>=1.13.0->evadb==0.1.3->-r requirements.txt (line 3)) (3.9.0)\n",
      "Requirement already satisfied: grpcio>=1.32.0; python_version < \"3.10\" in ./eva-application/lib/python3.8/site-packages (from ray>=1.13.0->evadb==0.1.3->-r requirements.txt (line 3)) (1.51.1)\n",
      "Requirement already satisfied: frozenlist in ./eva-application/lib/python3.8/site-packages (from ray>=1.13.0->evadb==0.1.3->-r requirements.txt (line 3)) (1.3.3)\n",
      "Requirement already satisfied: msgpack<2.0.0,>=1.0.0 in ./eva-application/lib/python3.8/site-packages (from ray>=1.13.0->evadb==0.1.3->-r requirements.txt (line 3)) (1.0.4)\n",
      "Requirement already satisfied: virtualenv>=20.0.24 in ./eva-application/lib/python3.8/site-packages (from ray>=1.13.0->evadb==0.1.3->-r requirements.txt (line 3)) (20.17.1)\n",
      "Requirement already satisfied: scipy>=1.4.1 in ./eva-application/lib/python3.8/site-packages (from yolov5->evadb==0.1.3->-r requirements.txt (line 3)) (1.10.0)\n",
      "Requirement already satisfied: tqdm>=4.64.0 in ./eva-application/lib/python3.8/site-packages (from yolov5->evadb==0.1.3->-r requirements.txt (line 3)) (4.64.1)\n",
      "Requirement already satisfied: tensorboard>=2.4.1 in ./eva-application/lib/python3.8/site-packages (from yolov5->evadb==0.1.3->-r requirements.txt (line 3)) (2.11.0)\n",
      "Requirement already satisfied: fire in ./eva-application/lib/python3.8/site-packages (from yolov5->evadb==0.1.3->-r requirements.txt (line 3)) (0.5.0)\n",
      "Requirement already satisfied: seaborn>=0.11.0 in ./eva-application/lib/python3.8/site-packages (from yolov5->evadb==0.1.3->-r requirements.txt (line 3)) (0.12.2)\n",
      "Requirement already satisfied: thop>=0.1.1 in ./eva-application/lib/python3.8/site-packages (from yolov5->evadb==0.1.3->-r requirements.txt (line 3)) (0.1.1.post2209072238)\n",
      "Requirement already satisfied: gitpython in ./eva-application/lib/python3.8/site-packages (from yolov5->evadb==0.1.3->-r requirements.txt (line 3)) (3.1.30)\n",
      "Requirement already satisfied: matplotlib>=3.2.2 in ./eva-application/lib/python3.8/site-packages (from yolov5->evadb==0.1.3->-r requirements.txt (line 3)) (3.6.2)\n",
      "Requirement already satisfied: sahi>=0.11.9 in ./eva-application/lib/python3.8/site-packages (from yolov5->evadb==0.1.3->-r requirements.txt (line 3)) (0.11.9)\n",
      "Requirement already satisfied: boto3>=1.19.1 in ./eva-application/lib/python3.8/site-packages (from yolov5->evadb==0.1.3->-r requirements.txt (line 3)) (1.26.42)\n",
      "Requirement already satisfied: huggingface-hub>=0.11.1 in ./eva-application/lib/python3.8/site-packages (from yolov5->evadb==0.1.3->-r requirements.txt (line 3)) (0.11.1)\n",
      "Requirement already satisfied: zipp>=0.5 in ./eva-application/lib/python3.8/site-packages (from importlib-metadata<5.0->evadb==0.1.3->-r requirements.txt (line 3)) (3.11.0)\n",
      "Requirement already satisfied: greenlet!=0.4.17; python_version >= \"3\" and (platform_machine == \"aarch64\" or (platform_machine == \"ppc64le\" or (platform_machine == \"x86_64\" or (platform_machine == \"amd64\" or (platform_machine == \"AMD64\" or (platform_machine == \"win32\" or platform_machine == \"WIN32\")))))) in ./eva-application/lib/python3.8/site-packages (from sqlalchemy>=1.4.0->evadb==0.1.3->-r requirements.txt (line 3)) (2.0.1)\n",
      "Requirement already satisfied: nvidia-cuda-runtime-cu11==11.7.99; platform_system == \"Linux\" in ./eva-application/lib/python3.8/site-packages (from torch>=1.10.0->evadb==0.1.3->-r requirements.txt (line 3)) (11.7.99)\n",
      "Requirement already satisfied: nvidia-cuda-nvrtc-cu11==11.7.99; platform_system == \"Linux\" in ./eva-application/lib/python3.8/site-packages (from torch>=1.10.0->evadb==0.1.3->-r requirements.txt (line 3)) (11.7.99)\n",
      "Requirement already satisfied: nvidia-cublas-cu11==11.10.3.66; platform_system == \"Linux\" in ./eva-application/lib/python3.8/site-packages (from torch>=1.10.0->evadb==0.1.3->-r requirements.txt (line 3)) (11.10.3.66)\n",
      "Requirement already satisfied: nvidia-cudnn-cu11==8.5.0.96; platform_system == \"Linux\" in ./eva-application/lib/python3.8/site-packages (from torch>=1.10.0->evadb==0.1.3->-r requirements.txt (line 3)) (8.5.0.96)\n",
      "Requirement already satisfied: typing-extensions in ./eva-application/lib/python3.8/site-packages (from torch>=1.10.0->evadb==0.1.3->-r requirements.txt (line 3)) (4.4.0)\n",
      "Requirement already satisfied: python-dateutil>=2.8.1 in ./eva-application/lib/python3.8/site-packages (from pandas>=1.1.5->evadb==0.1.3->-r requirements.txt (line 3)) (2.8.2)\n",
      "Requirement already satisfied: pytz>=2020.1 in ./eva-application/lib/python3.8/site-packages (from pandas>=1.1.5->evadb==0.1.3->-r requirements.txt (line 3)) (2022.7)\n",
      "Requirement already satisfied: pygments>=2.4.0 in ./eva-application/lib/python3.8/site-packages (from ipython->evadb==0.1.3->-r requirements.txt (line 3)) (2.14.0)\n",
      "Requirement already satisfied: backcall in ./eva-application/lib/python3.8/site-packages (from ipython->evadb==0.1.3->-r requirements.txt (line 3)) (0.2.0)\n",
      "Requirement already satisfied: pexpect>4.3; sys_platform != \"win32\" in ./eva-application/lib/python3.8/site-packages (from ipython->evadb==0.1.3->-r requirements.txt (line 3)) (4.8.0)\n",
      "Requirement already satisfied: jedi>=0.16 in ./eva-application/lib/python3.8/site-packages (from ipython->evadb==0.1.3->-r requirements.txt (line 3)) (0.18.2)\n",
      "Requirement already satisfied: pickleshare in ./eva-application/lib/python3.8/site-packages (from ipython->evadb==0.1.3->-r requirements.txt (line 3)) (0.7.5)\n",
      "Requirement already satisfied: decorator in ./eva-application/lib/python3.8/site-packages (from ipython->evadb==0.1.3->-r requirements.txt (line 3)) (5.1.1)\n",
      "Requirement already satisfied: stack-data in ./eva-application/lib/python3.8/site-packages (from ipython->evadb==0.1.3->-r requirements.txt (line 3)) (0.6.2)\n",
      "Requirement already satisfied: prompt-toolkit<3.1.0,>=3.0.11 in ./eva-application/lib/python3.8/site-packages (from ipython->evadb==0.1.3->-r requirements.txt (line 3)) (3.0.36)\n",
      "Requirement already satisfied: scikit-image in ./eva-application/lib/python3.8/site-packages (from easyocr>=1.5.0->evadb==0.1.3->-r requirements.txt (line 3)) (0.19.3)\n",
      "Requirement already satisfied: pyclipper in ./eva-application/lib/python3.8/site-packages (from easyocr>=1.5.0->evadb==0.1.3->-r requirements.txt (line 3)) (1.3.0.post4)\n",
      "Requirement already satisfied: Shapely in ./eva-application/lib/python3.8/site-packages (from easyocr>=1.5.0->evadb==0.1.3->-r requirements.txt (line 3)) (2.0.0)\n",
      "Requirement already satisfied: ninja in ./eva-application/lib/python3.8/site-packages (from easyocr>=1.5.0->evadb==0.1.3->-r requirements.txt (line 3)) (1.11.1)\n",
      "Requirement already satisfied: opencv-python-headless<=4.5.4.60 in ./eva-application/lib/python3.8/site-packages (from easyocr>=1.5.0->evadb==0.1.3->-r requirements.txt (line 3)) (4.5.4.60)\n",
      "Requirement already satisfied: python-bidi in ./eva-application/lib/python3.8/site-packages (from easyocr>=1.5.0->evadb==0.1.3->-r requirements.txt (line 3)) (0.4.2)\n",
      "Requirement already satisfied: importlib-resources>=1.4.0; python_version < \"3.9\" in ./eva-application/lib/python3.8/site-packages (from jsonschema>=2.6->nbformat->-r requirements.txt (line 6)) (5.10.2)\n",
      "Requirement already satisfied: pyrsistent!=0.17.0,!=0.17.1,!=0.17.2,>=0.14.0 in ./eva-application/lib/python3.8/site-packages (from jsonschema>=2.6->nbformat->-r requirements.txt (line 6)) (0.19.3)\n",
      "Requirement already satisfied: pkgutil-resolve-name>=1.3.10; python_version < \"3.9\" in ./eva-application/lib/python3.8/site-packages (from jsonschema>=2.6->nbformat->-r requirements.txt (line 6)) (1.3.10)\n",
      "Requirement already satisfied: platformdirs>=2.5 in ./eva-application/lib/python3.8/site-packages (from jupyter-core->nbformat->-r requirements.txt (line 6)) (2.6.2)\n",
      "Requirement already satisfied: entrypoints in ./eva-application/lib/python3.8/site-packages (from jupyter-client>=6.1.12->ipykernel->-r requirements.txt (line 7)) (0.4)\n",
      "Requirement already satisfied: charset-normalizer<3,>=2 in ./eva-application/lib/python3.8/site-packages (from requests->ray>=1.13.0->evadb==0.1.3->-r requirements.txt (line 3)) (2.1.1)\n",
      "Requirement already satisfied: certifi>=2017.4.17 in ./eva-application/lib/python3.8/site-packages (from requests->ray>=1.13.0->evadb==0.1.3->-r requirements.txt (line 3)) (2022.12.7)\n",
      "Requirement already satisfied: urllib3<1.27,>=1.21.1 in ./eva-application/lib/python3.8/site-packages (from requests->ray>=1.13.0->evadb==0.1.3->-r requirements.txt (line 3)) (1.26.13)\n",
      "Requirement already satisfied: idna<4,>=2.5 in ./eva-application/lib/python3.8/site-packages (from requests->ray>=1.13.0->evadb==0.1.3->-r requirements.txt (line 3)) (3.4)\n",
      "Requirement already satisfied: distlib<1,>=0.3.6 in ./eva-application/lib/python3.8/site-packages (from virtualenv>=20.0.24->ray>=1.13.0->evadb==0.1.3->-r requirements.txt (line 3)) (0.3.6)\n",
      "Requirement already satisfied: markdown>=2.6.8 in ./eva-application/lib/python3.8/site-packages (from tensorboard>=2.4.1->yolov5->evadb==0.1.3->-r requirements.txt (line 3)) (3.4.1)\n",
      "Requirement already satisfied: absl-py>=0.4 in ./eva-application/lib/python3.8/site-packages (from tensorboard>=2.4.1->yolov5->evadb==0.1.3->-r requirements.txt (line 3)) (1.3.0)\n",
      "Requirement already satisfied: google-auth-oauthlib<0.5,>=0.4.1 in ./eva-application/lib/python3.8/site-packages (from tensorboard>=2.4.1->yolov5->evadb==0.1.3->-r requirements.txt (line 3)) (0.4.6)\n",
      "Requirement already satisfied: tensorboard-data-server<0.7.0,>=0.6.0 in ./eva-application/lib/python3.8/site-packages (from tensorboard>=2.4.1->yolov5->evadb==0.1.3->-r requirements.txt (line 3)) (0.6.1)\n",
      "Requirement already satisfied: tensorboard-plugin-wit>=1.6.0 in ./eva-application/lib/python3.8/site-packages (from tensorboard>=2.4.1->yolov5->evadb==0.1.3->-r requirements.txt (line 3)) (1.8.1)\n",
      "Requirement already satisfied: werkzeug>=1.0.1 in ./eva-application/lib/python3.8/site-packages (from tensorboard>=2.4.1->yolov5->evadb==0.1.3->-r requirements.txt (line 3)) (2.2.2)\n",
      "Requirement already satisfied: wheel>=0.26 in ./eva-application/lib/python3.8/site-packages (from tensorboard>=2.4.1->yolov5->evadb==0.1.3->-r requirements.txt (line 3)) (0.38.4)\n",
      "Requirement already satisfied: setuptools>=41.0.0 in ./eva-application/lib/python3.8/site-packages (from tensorboard>=2.4.1->yolov5->evadb==0.1.3->-r requirements.txt (line 3)) (44.0.0)\n",
      "Requirement already satisfied: google-auth<3,>=1.6.3 in ./eva-application/lib/python3.8/site-packages (from tensorboard>=2.4.1->yolov5->evadb==0.1.3->-r requirements.txt (line 3)) (2.15.0)\n",
      "Requirement already satisfied: six in ./eva-application/lib/python3.8/site-packages (from fire->yolov5->evadb==0.1.3->-r requirements.txt (line 3)) (1.16.0)\n",
      "Requirement already satisfied: termcolor in ./eva-application/lib/python3.8/site-packages (from fire->yolov5->evadb==0.1.3->-r requirements.txt (line 3)) (2.2.0)\n",
      "Requirement already satisfied: gitdb<5,>=4.0.1 in ./eva-application/lib/python3.8/site-packages (from gitpython->yolov5->evadb==0.1.3->-r requirements.txt (line 3)) (4.0.10)\n",
      "Requirement already satisfied: cycler>=0.10 in ./eva-application/lib/python3.8/site-packages (from matplotlib>=3.2.2->yolov5->evadb==0.1.3->-r requirements.txt (line 3)) (0.11.0)\n",
      "Requirement already satisfied: kiwisolver>=1.0.1 in ./eva-application/lib/python3.8/site-packages (from matplotlib>=3.2.2->yolov5->evadb==0.1.3->-r requirements.txt (line 3)) (1.4.4)\n",
      "Requirement already satisfied: contourpy>=1.0.1 in ./eva-application/lib/python3.8/site-packages (from matplotlib>=3.2.2->yolov5->evadb==0.1.3->-r requirements.txt (line 3)) (1.0.6)\n",
      "Requirement already satisfied: pyparsing>=2.2.1 in ./eva-application/lib/python3.8/site-packages (from matplotlib>=3.2.2->yolov5->evadb==0.1.3->-r requirements.txt (line 3)) (3.0.9)\n",
      "Requirement already satisfied: fonttools>=4.22.0 in ./eva-application/lib/python3.8/site-packages (from matplotlib>=3.2.2->yolov5->evadb==0.1.3->-r requirements.txt (line 3)) (4.38.0)\n",
      "Requirement already satisfied: terminaltables in ./eva-application/lib/python3.8/site-packages (from sahi>=0.11.9->yolov5->evadb==0.1.3->-r requirements.txt (line 3)) (3.1.10)\n",
      "Requirement already satisfied: pybboxes==0.1.5; python_version >= \"3.8\" in ./eva-application/lib/python3.8/site-packages (from sahi>=0.11.9->yolov5->evadb==0.1.3->-r requirements.txt (line 3)) (0.1.5)\n",
      "Requirement already satisfied: jmespath<2.0.0,>=0.7.1 in ./eva-application/lib/python3.8/site-packages (from boto3>=1.19.1->yolov5->evadb==0.1.3->-r requirements.txt (line 3)) (1.0.1)\n",
      "Requirement already satisfied: s3transfer<0.7.0,>=0.6.0 in ./eva-application/lib/python3.8/site-packages (from boto3>=1.19.1->yolov5->evadb==0.1.3->-r requirements.txt (line 3)) (0.6.0)\n",
      "Requirement already satisfied: botocore<1.30.0,>=1.29.42 in ./eva-application/lib/python3.8/site-packages (from boto3>=1.19.1->yolov5->evadb==0.1.3->-r requirements.txt (line 3)) (1.29.42)\n",
      "Requirement already satisfied: ptyprocess>=0.5 in ./eva-application/lib/python3.8/site-packages (from pexpect>4.3; sys_platform != \"win32\"->ipython->evadb==0.1.3->-r requirements.txt (line 3)) (0.7.0)\n",
      "Requirement already satisfied: parso<0.9.0,>=0.8.0 in ./eva-application/lib/python3.8/site-packages (from jedi>=0.16->ipython->evadb==0.1.3->-r requirements.txt (line 3)) (0.8.3)\n",
      "Requirement already satisfied: asttokens>=2.1.0 in ./eva-application/lib/python3.8/site-packages (from stack-data->ipython->evadb==0.1.3->-r requirements.txt (line 3)) (2.2.1)\n",
      "Requirement already satisfied: pure-eval in ./eva-application/lib/python3.8/site-packages (from stack-data->ipython->evadb==0.1.3->-r requirements.txt (line 3)) (0.2.2)\n",
      "Requirement already satisfied: executing>=1.2.0 in ./eva-application/lib/python3.8/site-packages (from stack-data->ipython->evadb==0.1.3->-r requirements.txt (line 3)) (1.2.0)\n",
      "Requirement already satisfied: wcwidth in ./eva-application/lib/python3.8/site-packages (from prompt-toolkit<3.1.0,>=3.0.11->ipython->evadb==0.1.3->-r requirements.txt (line 3)) (0.2.5)\n",
      "Requirement already satisfied: PyWavelets>=1.1.1 in ./eva-application/lib/python3.8/site-packages (from scikit-image->easyocr>=1.5.0->evadb==0.1.3->-r requirements.txt (line 3)) (1.4.1)\n",
      "Requirement already satisfied: imageio>=2.4.1 in ./eva-application/lib/python3.8/site-packages (from scikit-image->easyocr>=1.5.0->evadb==0.1.3->-r requirements.txt (line 3)) (2.23.0)\n",
      "Requirement already satisfied: networkx>=2.2 in ./eva-application/lib/python3.8/site-packages (from scikit-image->easyocr>=1.5.0->evadb==0.1.3->-r requirements.txt (line 3)) (2.8.8)\n",
      "Requirement already satisfied: tifffile>=2019.7.26 in ./eva-application/lib/python3.8/site-packages (from scikit-image->easyocr>=1.5.0->evadb==0.1.3->-r requirements.txt (line 3)) (2022.10.10)\n",
      "Requirement already satisfied: requests-oauthlib>=0.7.0 in ./eva-application/lib/python3.8/site-packages (from google-auth-oauthlib<0.5,>=0.4.1->tensorboard>=2.4.1->yolov5->evadb==0.1.3->-r requirements.txt (line 3)) (1.3.1)\n",
      "Requirement already satisfied: MarkupSafe>=2.1.1 in ./eva-application/lib/python3.8/site-packages (from werkzeug>=1.0.1->tensorboard>=2.4.1->yolov5->evadb==0.1.3->-r requirements.txt (line 3)) (2.1.1)\n",
      "Requirement already satisfied: pyasn1-modules>=0.2.1 in ./eva-application/lib/python3.8/site-packages (from google-auth<3,>=1.6.3->tensorboard>=2.4.1->yolov5->evadb==0.1.3->-r requirements.txt (line 3)) (0.2.8)\n",
      "Requirement already satisfied: cachetools<6.0,>=2.0.0 in ./eva-application/lib/python3.8/site-packages (from google-auth<3,>=1.6.3->tensorboard>=2.4.1->yolov5->evadb==0.1.3->-r requirements.txt (line 3)) (5.2.0)\n",
      "Requirement already satisfied: rsa<5,>=3.1.4; python_version >= \"3.6\" in ./eva-application/lib/python3.8/site-packages (from google-auth<3,>=1.6.3->tensorboard>=2.4.1->yolov5->evadb==0.1.3->-r requirements.txt (line 3)) (4.9)\n",
      "Requirement already satisfied: smmap<6,>=3.0.1 in ./eva-application/lib/python3.8/site-packages (from gitdb<5,>=4.0.1->gitpython->yolov5->evadb==0.1.3->-r requirements.txt (line 3)) (5.0.0)\n",
      "Requirement already satisfied: oauthlib>=3.0.0 in ./eva-application/lib/python3.8/site-packages (from requests-oauthlib>=0.7.0->google-auth-oauthlib<0.5,>=0.4.1->tensorboard>=2.4.1->yolov5->evadb==0.1.3->-r requirements.txt (line 3)) (3.2.2)\n",
      "Requirement already satisfied: pyasn1<0.5.0,>=0.4.6 in ./eva-application/lib/python3.8/site-packages (from pyasn1-modules>=0.2.1->google-auth<3,>=1.6.3->tensorboard>=2.4.1->yolov5->evadb==0.1.3->-r requirements.txt (line 3)) (0.4.8)\n",
      "Note: you may need to restart the kernel to use updated packages.\n"
     ]
    }
   ],
   "source": [
    "pip install -r requirements.txt"
   ]
  },
  {
   "cell_type": "markdown",
   "id": "691f5c48",
   "metadata": {
    "pycharm": {
     "name": "#%% md\n"
    }
   },
   "source": [
    "### Start EVA server\n",
    "\n",
    "We are reusing the start server notebook for launching the EVA server."
   ]
  },
  {
   "cell_type": "code",
   "execution_count": 169,
   "id": "3309b54e",
   "metadata": {
    "pycharm": {
     "name": "#%%\n"
    }
   },
   "outputs": [
    {
     "name": "stdout",
     "output_type": "stream",
     "text": [
      "File '00-start-eva-server.ipynb' already there; not retrieving.\n",
      "\n",
      "nohup eva_server > eva.log 2>&1 &\n",
      "\n",
      "Note: you may need to restart the kernel to use updated packages.\n"
     ]
    }
   ],
   "source": [
    "!wget -nc \"https://raw.githubusercontent.com/georgia-tech-db/eva/master/tutorials/00-start-eva-server.ipynb\"\n",
    "%run 00-start-eva-server.ipynb\n",
    "cursor = connect_to_server()"
   ]
  },
  {
   "cell_type": "markdown",
   "id": "b42c3a7e",
   "metadata": {
    "pycharm": {
     "name": "#%% md\n"
    }
   },
   "source": [
    "### Getting the Video Files"
   ]
  },
  {
   "cell_type": "markdown",
   "id": "93777906",
   "metadata": {
    "pycharm": {
     "name": "#%% md\n"
    }
   },
   "source": [
    "### Load the surveillance videos for analysis"
   ]
  },
  {
   "cell_type": "code",
   "execution_count": 170,
   "id": "6b0280af",
   "metadata": {
    "pycharm": {
     "name": "#%%\n"
    }
   },
   "outputs": [
    {
     "name": "stdout",
     "output_type": "stream",
     "text": [
      "@status: ResponseStatus.SUCCESS\n",
      "@batch: \n",
      "                                       0\n",
      "0  Table Successfully dropped: MyVideos\n",
      "@query_time: 0.03623203805182129\n",
      "@status: ResponseStatus.SUCCESS\n",
      "@batch: \n",
      "                            0\n",
      "0  Number of loaded VIDEO: 1\n",
      "@query_time: 0.32878233201336116\n"
     ]
    }
   ],
   "source": [
    "cursor.execute('DROP TABLE IF EXISTS MyVideos;')\n",
    "response = cursor.fetch_all()\n",
    "print(response)\n",
    "cursor.execute('LOAD VIDEO \"1.mp4\" INTO MyVideos;')\n",
    "response = cursor.fetch_all()\n",
    "print(response)"
   ]
  },
  {
   "cell_type": "markdown",
   "id": "30ee65b9",
   "metadata": {
    "pycharm": {
     "name": "#%% md\n"
    }
   },
   "source": [
    "### Visualize Video"
   ]
  },
  {
   "cell_type": "code",
   "execution_count": 171,
   "id": "98b30d70",
   "metadata": {
    "pycharm": {
     "name": "#%%\n"
    }
   },
   "outputs": [
    {
     "data": {
      "application/vnd.jupyter.widget-view+json": {
       "model_id": "30d16699c8c04d868423803ccdf9e47e",
       "version_major": 2,
       "version_minor": 0
      },
      "text/plain": [
       "Video(value=b'\\x00\\x00\\x00\\x1cftypmp42\\x00\\x00\\x00\\x01isommp41mp42\\x00\\x00\\x00\\x01mdat\\x00\\x00\\x00\\x00...')"
      ]
     },
     "execution_count": 171,
     "metadata": {},
     "output_type": "execute_result"
    }
   ],
   "source": [
    "from ipywidgets import Video\n",
    "Video.from_file(\"1.mp4\", embed=True)"
   ]
  },
  {
   "attachments": {},
   "cell_type": "markdown",
   "id": "c943434e",
   "metadata": {},
   "source": [
    "### Create Custom UDF for Car Plate Detection"
   ]
  },
  {
   "cell_type": "code",
   "execution_count": 172,
   "id": "9b54c297",
   "metadata": {
    "pycharm": {
     "name": "#%%\n"
    }
   },
   "outputs": [
    {
     "name": "stdout",
     "output_type": "stream",
     "text": [
      "@status: ResponseStatus.SUCCESS\n",
      "@batch: \n",
      "                                            0\n",
      "0  UDF CarPlateDetector successfully dropped\n",
      "@query_time: 0.018401494016870856\n",
      "@status: ResponseStatus.SUCCESS\n",
      "@batch: \n",
      "                                                           0\n",
      "0  UDF CarPlateDetector successfully added to the database.\n",
      "@query_time: 1.3053191340295598\n"
     ]
    }
   ],
   "source": [
    "cursor.execute(\"DROP UDF IF EXISTS CarPlateDetector;\")\n",
    "response = cursor.fetch_all()\n",
    "print(response)\n",
    "cursor.execute(\"\"\"CREATE UDF IF NOT EXISTS CarPlateDetector\n",
    "      INPUT  (frame NDARRAY UINT8(3, ANYDIM, ANYDIM))\n",
    "      OUTPUT (results NDARRAY FLOAT32(ANYDIM, ANYDIM))\n",
    "      TYPE  Classification\n",
    "      IMPL  'car_plate_detector.py';\n",
    "      \"\"\") \n",
    "response = cursor.fetch_all()\n",
    "print(response)"
   ]
  },
  {
   "attachments": {},
   "cell_type": "markdown",
   "id": "296b93a8",
   "metadata": {
    "pycharm": {
     "name": "#%% md\n"
    }
   },
   "source": [
    "### Run Car Plate Detector on Video"
   ]
  },
  {
   "cell_type": "code",
   "execution_count": 173,
   "id": "b989e7e2",
   "metadata": {
    "pycharm": {
     "name": "#%%\n"
    }
   },
   "outputs": [
    {
     "name": "stdout",
     "output_type": "stream",
     "text": [
      "@status: ResponseStatus.SUCCESS\n",
      "@batch: \n",
      "    myvideos.id  \\\n",
      "0            0   \n",
      "\n",
      "                                                                              carplatedetector.results  \n",
      "0  [[0 0 0 ... 0 0 0], [0 0 0 ... 0 0 0], [0 0 0 ... 0 0 0], [0 0 0 ... 0 0 0], [0 0 0 ... 0 0 0], ...  \n",
      "@query_time: 5.893736046040431\n"
     ]
    }
   ],
   "source": [
    "cursor.execute(\"\"\"SELECT id, CarPlateDetector(data)\n",
    "                  FROM MyVideos \n",
    "                  WHERE id < 1\"\"\")\n",
    "response = cursor.fetch_all()\n",
    "print(response)"
   ]
  },
  {
   "attachments": {},
   "cell_type": "markdown",
   "id": "058dee7a",
   "metadata": {
    "pycharm": {
     "name": "#%% md\n"
    }
   },
   "source": [
    "### Visualize Model Output on Video"
   ]
  },
  {
   "cell_type": "code",
   "execution_count": 174,
   "id": "5ee573c3",
   "metadata": {
    "pycharm": {
     "name": "#%%\n"
    }
   },
   "outputs": [],
   "source": [
    "import cv2\n",
    "import numpy as np\n",
    "def image_resize(image, width=None, height=None, inter=cv2.INTER_CUBIC):\n",
    "    # https://stackoverflow.com/questions/44650888/resize-an-image-without-distortion-opencv\n",
    "    dim = None\n",
    "    (h, w) = image.shape[:2]\n",
    "\n",
    "    if width is None and height is None:\n",
    "        return image\n",
    "\n",
    "    if width is None:\n",
    "        r = height / float(h)\n",
    "        dim = (int(w * r), height)\n",
    "    else:\n",
    "        r = width / float(w)\n",
    "        dim = (width, int(h * r))\n",
    "\n",
    "    resized = cv2.resize(image, dim, interpolation=inter)\n",
    "\n",
    "    return resized"
   ]
  },
  {
   "cell_type": "code",
   "execution_count": 175,
   "id": "7555bcb4",
   "metadata": {
    "pycharm": {
     "name": "#%%\n"
    }
   },
   "outputs": [],
   "source": [
    "def unsharp_mask(image, kernel_size=(5, 5), sigma=1.0, amount=1.0, threshold=0):\n",
    "    # https://stackoverflow.com/questions/4993082/how-to-sharpen-an-image-in-opencv\n",
    "    blurred = cv2.GaussianBlur(image, kernel_size, sigma)\n",
    "    sharpened = float(amount + 1) * image - float(amount) * blurred\n",
    "    sharpened = np.maximum(sharpened, np.zeros(sharpened.shape))\n",
    "    sharpened = np.minimum(sharpened, 255 * np.ones(sharpened.shape))\n",
    "    sharpened = sharpened.round().astype(np.uint8)\n",
    "    if threshold > 0:\n",
    "        low_contrast_mask = np.absolute(image - blurred) < threshold\n",
    "        np.copyto(sharpened, image, where=low_contrast_mask)\n",
    "    return sharpened"
   ]
  },
  {
   "cell_type": "code",
   "execution_count": 176,
   "id": "c862bcb4",
   "metadata": {
    "pycharm": {
     "name": "#%%\n"
    }
   },
   "outputs": [],
   "source": [
    "def show_images(images, cols=1, prefix='Image ', titles=None):\n",
    "    # https://gist.github.com/soply/f3eec2e79c165e39c9d540e916142ae1\n",
    "    assert((titles is None)or (len(images) == len(titles)))\n",
    "    n_images = len(images)\n",
    "    if titles is None:\n",
    "        titles = [f'{prefix} ({i})' for i in range(1, n_images + 1)]\n",
    "    fig = plt.figure()\n",
    "    for n, (image, title) in enumerate(zip(images, titles)):\n",
    "        a = fig.add_subplot(cols, int(np.ceil(n_images/float(cols))), n + 1)\n",
    "        if image.ndim == 2:\n",
    "            plt.gray()\n",
    "        plt.imshow(image)\n",
    "        a.set_title(title)\n",
    "    fig.set_size_inches(np.array(fig.get_size_inches()) * n_images)\n",
    "    plt.show()"
   ]
  },
  {
   "cell_type": "code",
   "execution_count": 177,
   "id": "45f5c68c",
   "metadata": {
    "pycharm": {
     "name": "#%%\n"
    }
   },
   "outputs": [],
   "source": [
    "def remove_noise(image):\n",
    "    gray = cv2.cvtColor(image, cv2.COLOR_BGR2GRAY)\n",
    "    thresh = cv2.threshold(gray, 0, 255, cv2.THRESH_BINARY_INV + cv2.THRESH_OTSU)[1]\n",
    "\n",
    "    # Morph open to remove noise\n",
    "    kernel = cv2.getStructuringElement(cv2.MORPH_RECT, (2,2))\n",
    "    opening = cv2.morphologyEx(thresh, cv2.MORPH_OPEN, kernel, iterations=1)\n",
    "\n",
    "    # Find contours and remove small noise\n",
    "    cnts = cv2.findContours(opening, cv2.RETR_EXTERNAL, cv2.CHAIN_APPROX_SIMPLE)\n",
    "    cnts = cnts[0] if len(cnts) == 2 else cnts[1]\n",
    "    for c in cnts:\n",
    "        area = cv2.contourArea(c)\n",
    "        if area < 200:\n",
    "            cv2.drawContours(opening, [c], -1, 0, -1)\n",
    "\n",
    "    # Invert and apply slight Gaussian blur\n",
    "    result = 255 - opening\n",
    "    #result = cv2.GaussianBlur(result, (3,3), 0)\n",
    "    return result"
   ]
  },
  {
   "cell_type": "code",
   "execution_count": 178,
   "id": "6a6e2234",
   "metadata": {
    "pycharm": {
     "name": "#%%\n"
    }
   },
   "outputs": [],
   "source": [
    "from pprint import pprint\n",
    "from matplotlib import pyplot as plt\n",
    "\n",
    "def annotate_video(detections, input_video_path):\n",
    "    color1=(207, 248, 64)\n",
    "    color2=(255, 49, 49)\n",
    "    thickness=4\n",
    "\n",
    "    vcap = cv2.VideoCapture(input_video_path)\n",
    "    width = int(vcap.get(3))\n",
    "    height = int(vcap.get(4))\n",
    "\n",
    "\n",
    "    frame_id = 0\n",
    "    # Capture frame-by-frame\n",
    "    # ret = 1 if the video is captured; frame is the image\n",
    "    ret, frame = vcap.read()\n",
    "    car_plates = []\n",
    "\n",
    "    while ret:\n",
    "        df = detections\n",
    "        df = df[['carplatedetector.results']][df.index == frame_id]\n",
    "        if df.size:\n",
    "            dfList = df.values.tolist()\n",
    "            mask = np.array(dfList[0][0])\n",
    "            mask = mask.astype(np.uint8)\n",
    "            #plt.imshow(mask)\n",
    "            #frame = cv2.cvtColor(np.array(frame, copy=True), cv2.COLOR_RGB2BGR)\n",
    "            contours, hierarchy = cv2.findContours(\n",
    "                mask, cv2.RETR_TREE, cv2.CHAIN_APPROX_SIMPLE)\n",
    "            plates = []\n",
    "\n",
    "            for j, c in enumerate(contours):\n",
    "                x,y,w,h = cv2.boundingRect(c)\n",
    "                plate = frame[y:y+h, x:x+w]\n",
    "                fourcc = cv2.VideoWriter_fourcc('m', 'p', '4', 'v')\n",
    "                fps = 25\n",
    "                dim = plate.shape[:2]\n",
    "                video = cv2.VideoWriter(\"frame\" + str(frame_id)+ \"_plate\" + str(j) + \".mp4\", fourcc, fps, (dim[1], dim[0]))\n",
    "                for _ in range(50): video.write(plate)\n",
    "                video.release()\n",
    "                plates.append(plate)\n",
    "                if frame_id % 5 == 0:\n",
    "                    plt.imshow(plate)\n",
    "                    plt.show()\n",
    "            # show_images(plates,  prefix='License plate')\n",
    "            car_plates.append(plates)\n",
    "        frame_id+=1\n",
    "        ret, frame = vcap.read()\n",
    "    return car_plates"
   ]
  },
  {
   "cell_type": "code",
   "execution_count": 179,
   "id": "e2668e08",
   "metadata": {
    "pycharm": {
     "name": "#%%\n"
    }
   },
   "outputs": [
    {
     "data": {
      "image/png": "[encoded data removed]",
      "text/plain": [
       "<Figure size 640x480 with 1 Axes>"
      ]
     },
     "metadata": {},
     "output_type": "display_data"
    },
    {
     "data": {
      "image/png": "[encoded data removed]",
      "text/plain": [
       "<Figure size 640x480 with 1 Axes>"
      ]
     },
     "metadata": {},
     "output_type": "display_data"
    },
    {
     "data": {
      "image/png": "[encoded data removed]",
      "text/plain": [
       "<Figure size 640x480 with 1 Axes>"
      ]
     },
     "metadata": {},
     "output_type": "display_data"
    },
    {
     "data": {
      "image/png": "[encoded data removed]",
      "text/plain": [
       "<Figure size 640x480 with 1 Axes>"
      ]
     },
     "metadata": {},
     "output_type": "display_data"
    }
   ],
   "source": [
    "from ipywidgets import Video, Image\n",
    "input_path = \"1.mp4\"\n",
    "dataframe = response.batch.frames\n",
    "car_plates = annotate_video(dataframe, input_path)"
   ]
  },
  {
   "cell_type": "code",
   "execution_count": 180,
   "id": "1d513284",
   "metadata": {
    "pycharm": {
     "name": "#%%\n"
    }
   },
   "outputs": [],
   "source": [
    "from PIL import Image\n",
    "def plates2videos(car_plates):\n",
    "    for i, plates in enumerate(car_plates):\n",
    "        for j, plate in enumerate(plates):\n",
    "            fourcc = cv2.VideoWriter_fourcc('m', 'p', '4', 'v')\n",
    "            fps = 25\n",
    "            dim = plate.shape[:2]\n",
    "            video = cv2.VideoWriter(\"frame\" + str(i)+ \"_plate\" + str(j) + \".mp4\", fourcc, fps, (dim[1], dim[0]))\n",
    "            plate = cv2.cvtColor(plate, cv2.COLOR_RGB2BGR)\n",
    "            for _ in range(50): video.write(plate)\n",
    "            video.release()"
   ]
  },
  {
   "cell_type": "code",
   "execution_count": 181,
   "id": "b4c5cdf8",
   "metadata": {
    "pycharm": {
     "name": "#%%\n"
    }
   },
   "outputs": [],
   "source": [
    "plates2videos(car_plates)"
   ]
  },
  {
   "cell_type": "code",
   "execution_count": 182,
   "id": "60ecf431",
   "metadata": {
    "pycharm": {
     "name": "#%%\n"
    }
   },
   "outputs": [
    {
     "name": "stdout",
     "output_type": "stream",
     "text": [
      "@status: ResponseStatus.SUCCESS\n",
      "@batch: \n",
      "                                        0\n",
      "0  UDF OCRExtractor successfully dropped\n",
      "@query_time: 0.02304618409834802\n"
     ]
    }
   ],
   "source": [
    "cursor.execute(\"DROP UDF OCRExtractor;\")\n",
    "response = cursor.fetch_all()\n",
    "print(response)"
   ]
  },
  {
   "cell_type": "code",
   "execution_count": 183,
   "id": "8b610905",
   "metadata": {
    "pycharm": {
     "name": "#%%\n"
    }
   },
   "outputs": [
    {
     "name": "stdout",
     "output_type": "stream",
     "text": [
      "@status: ResponseStatus.SUCCESS\n",
      "@batch: \n",
      "                                                       0\n",
      "0  UDF OCRExtractor successfully added to the database.\n",
      "@query_time: 2.4929564719786867\n"
     ]
    }
   ],
   "source": [
    "cursor.execute(\"\"\"CREATE UDF IF NOT EXISTS OCRExtractor\n",
    "      INPUT  (frame NDARRAY UINT8(3, ANYDIM, ANYDIM))\n",
    "      OUTPUT (labels NDARRAY STR(ANYDIM), bboxes NDARRAY FLOAT32(ANYDIM, 4),\n",
    "              scores NDARRAY FLOAT32(ANYDIM))\n",
    "      TYPE  Classification\n",
    "      IMPL  'ocr_extractor.py';\n",
    "      \"\"\")\n",
    "response = cursor.fetch_all()\n",
    "print(response)"
   ]
  },
  {
   "cell_type": "code",
   "execution_count": 184,
   "id": "d5f9fd52",
   "metadata": {
    "pycharm": {
     "name": "#%%\n"
    }
   },
   "outputs": [
    {
     "name": "stdout",
     "output_type": "stream",
     "text": [
      "frame0_plate0.mp4\n",
      "@status: ResponseStatus.SUCCESS\n",
      "@batch: \n",
      "                                       0\n",
      "0  Table Successfully dropped: MyVideos\n",
      "@query_time: 0.026179561973549426\n",
      "@status: ResponseStatus.SUCCESS\n",
      "@batch: \n",
      "                            0\n",
      "0  Number of loaded VIDEO: 1\n",
      "@query_time: 0.05453889595810324\n",
      "@status: ResponseStatus.SUCCESS\n",
      "@batch: \n",
      "    myvideos.id ocrextractor.labels                     ocrextractor.bboxes  \\\n",
      "0            0         [[c017726]]  [[[0, 7], [84, 7], [84, 46], [0, 46]]]   \n",
      "\n",
      "     ocrextractor.scores  \n",
      "0  [0.15990134416995833]  \n",
      "@query_time: 4.82309387892019\n"
     ]
    }
   ],
   "source": [
    "#for i, plates in enumerate(car_plates):\n",
    "#    for j, plate in enumerate(plates):\n",
    "i=0\n",
    "j=0\n",
    "file_name = \"frame\" + str(i)+ \"_plate\" + str(j) + \".mp4\"\n",
    "print(file_name)\n",
    "cursor.execute('DROP TABLE MyVideos')\n",
    "response = cursor.fetch_all()\n",
    "print(response)\n",
    "cursor.execute('LOAD VIDEO \"' + file_name + '\" INTO MyVideos;')\n",
    "response = cursor.fetch_all()\n",
    "print(response)\n",
    "cursor.execute(\"\"\"SELECT id, OCRExtractor(data)\n",
    "                FROM MyVideos\n",
    "                WHERE id < 1\"\"\")\n",
    "response = cursor.fetch_all()\n",
    "print(response)"
   ]
  },
  {
   "cell_type": "code",
   "execution_count": 185,
   "id": "64f7392a",
   "metadata": {},
   "outputs": [],
   "source": [
    "import cv2\n",
    "from pprint import pprint\n",
    "from matplotlib import pyplot as plt\n",
    "\n",
    "def annotate_video_ocr(detections, input_video_path, output_video_path):\n",
    "    color1=(0, 255, 150)\n",
    "    color2=(255, 49, 49)\n",
    "    thickness=4\n",
    "\n",
    "    vcap = cv2.VideoCapture(input_video_path)\n",
    "    width = int(vcap.get(3))\n",
    "    height = int(vcap.get(4))\n",
    "    fps = vcap.get(5)\n",
    "    fourcc = cv2.VideoWriter_fourcc('m', 'p', '4', 'v') #codec\n",
    "    video=cv2.VideoWriter(output_video_path, fourcc, fps, (width,height))\n",
    "\n",
    "    frame_id = 0\n",
    "    # Capture frame-by-frame\n",
    "    # ret = 1 if the video is captured; frame is the image\n",
    "    ret, frame = vcap.read() \n",
    "\n",
    "    print(detections)\n",
    "    plate_id = 0\n",
    "\n",
    "    while ret:\n",
    "        df = detections\n",
    "        df = df[['ocrextractor.bboxes', 'ocrextractor.labels']][df.index == frame_id]\n",
    "        if df.size:\n",
    "            dfLst = df.values.tolist()\n",
    "            for bbox, label in zip(dfLst[plate_id][0], dfLst[plate_id][1]):\n",
    "                x1, y1, x2, y2 = bbox\n",
    "                x1, y1, x2, y2 = int(x1[0]), int(x1[1]), int(x2[0]), int(x2[1])\n",
    "                print(x1)\n",
    "                print(y1)\n",
    "                # object bbox\n",
    "                frame=cv2.rectangle(frame, (x1, y1), (x2, y2), color1, thickness) \n",
    "                # object label\n",
    "                print(label)\n",
    "                frame = cv2.putText(frame, label, (20, 20), cv2.FONT_HERSHEY_SIMPLEX, 1, color2, thickness, cv2.LINE_AA) \n",
    "            video.write(frame)\n",
    "\n",
    "            # Show every  frame\n",
    "            plt.imshow(frame)\n",
    "            plt.show()\n",
    "                \n",
    "        frame_id+=1\n",
    "        ret, frame = vcap.read()\n",
    "\n",
    "    video.release()\n",
    "    vcap.release()"
   ]
  },
  {
   "cell_type": "code",
   "execution_count": 186,
   "id": "3905ce04",
   "metadata": {},
   "outputs": [],
   "source": [
    "from ipywidgets import Video, Image\n",
    "input_path = 'frame0_plate0.mp4'\n",
    "output_path = 'frame0_plate0.mp4'"
   ]
  },
  {
   "cell_type": "code",
   "execution_count": 187,
   "id": "c1f491b8",
   "metadata": {},
   "outputs": [
    {
     "name": "stdout",
     "output_type": "stream",
     "text": [
      "   myvideos.id ocrextractor.labels                     ocrextractor.bboxes  \\\n",
      "0            0         [[c017726]]  [[[0, 7], [84, 7], [84, 46], [0, 46]]]   \n",
      "\n",
      "     ocrextractor.scores  \n",
      "0  [0.15990134416995833]  \n",
      "0\n",
      "7\n",
      "[c017726]\n"
     ]
    },
    {
     "data": {
      "image/png": "[encoded data removed]",
      "text/plain": [
       "<Figure size 640x480 with 1 Axes>"
      ]
     },
     "metadata": {},
     "output_type": "display_data"
    }
   ],
   "source": [
    "dataframe = response.batch.frames\n",
    "annotate_video_ocr(dataframe, input_path, output_path)\n",
    "#Video.from_file(output_path)"
   ]
  }
 ],
 "metadata": {
  "kernelspec": {
   "display_name": "eva-application",
   "language": "python",
   "name": "python3"
  },
  "language_info": {
   "codemirror_mode": {
    "name": "ipython",
    "version": 3
   },
   "file_extension": ".py",
   "mimetype": "text/x-python",
   "name": "python",
   "nbconvert_exporter": "python",
   "pygments_lexer": "ipython3",
   "version": "3.8.10"
  },
  "vscode": {
   "interpreter": {
    "hash": "b883360377e80f7873ab93eb409667c815833199eaf42c6678799b95821f8c4b"
   }
  }
 },
 "nbformat": 4,
 "nbformat_minor": 5
}
